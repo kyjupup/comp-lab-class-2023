{
 "cells": [
  {
   "cell_type": "code",
   "execution_count": 1,
   "metadata": {},
   "outputs": [
    {
     "ename": "ModuleNotFoundError",
     "evalue": "No module named 'MDAnalysis'",
     "output_type": "error",
     "traceback": [
      "\u001b[0;31m---------------------------------------------------------------------------\u001b[0m",
      "\u001b[0;31mModuleNotFoundError\u001b[0m                       Traceback (most recent call last)",
      "\u001b[1;32m/home/yk3019/comp-lab-class-2023/Week4/2jof_amber/gromacs/gyration vs time.ipynb Cell 1\u001b[0m line \u001b[0;36m1\n\u001b[0;32m----> <a href='vscode-notebook-cell://ssh-remote%2Bgreene.hpc.nyu.edu/home/yk3019/comp-lab-class-2023/Week4/2jof_amber/gromacs/gyration%20vs%20time.ipynb#W0sdnNjb2RlLXJlbW90ZQ%3D%3D?line=0'>1</a>\u001b[0m \u001b[39mimport\u001b[39;00m \u001b[39mMDAnalysis\u001b[39;00m \u001b[39mas\u001b[39;00m \u001b[39mmda\u001b[39;00m\n\u001b[1;32m      <a href='vscode-notebook-cell://ssh-remote%2Bgreene.hpc.nyu.edu/home/yk3019/comp-lab-class-2023/Week4/2jof_amber/gromacs/gyration%20vs%20time.ipynb#W0sdnNjb2RlLXJlbW90ZQ%3D%3D?line=2'>3</a>\u001b[0m \u001b[39m# Load the trajectory and topology files\u001b[39;00m\n\u001b[1;32m      <a href='vscode-notebook-cell://ssh-remote%2Bgreene.hpc.nyu.edu/home/yk3019/comp-lab-class-2023/Week4/2jof_amber/gromacs/gyration%20vs%20time.ipynb#W0sdnNjb2RlLXJlbW90ZQ%3D%3D?line=3'>4</a>\u001b[0m u \u001b[39m=\u001b[39m mda\u001b[39m.\u001b[39mUniverse(\u001b[39m'\u001b[39m\u001b[39mstep5_10.gro\u001b[39m\u001b[39m'\u001b[39m, \u001b[39m'\u001b[39m\u001b[39mconcatenated_traj.xtc\u001b[39m\u001b[39m'\u001b[39m)\n",
      "\u001b[0;31mModuleNotFoundError\u001b[0m: No module named 'MDAnalysis'"
     ]
    }
   ],
   "source": [
    "import MDAnalysis as mda\n",
    "\n",
    "# Load the trajectory and topology files\n",
    "u = mda.Universe('step5_10.gro', 'concatenated_traj.xtc')\n",
    "\n",
    "# Calculate end-to-end distance\n",
    "end_to_end_distances = []\n",
    "for ts in u.trajectory:\n",
    "    d = mda.analysis.distances.distance_array(u.select_atoms('name CA and segid A'),\n",
    "                                              u.select_atoms('name CA and segid A'))\n",
    "    end_to_end_distances.append(d[0, 1])\n",
    "\n",
    "# Calculate radius of gyration\n",
    "rg = []\n",
    "for ts in u.trajectory:\n",
    "    r = u.select_atoms('name CA and segid A').radius_of_gyration()\n",
    "    rg.append(r)\n"
   ]
  }
 ],
 "metadata": {
  "kernelspec": {
   "display_name": "Python 3",
   "language": "python",
   "name": "python3"
  },
  "language_info": {
   "codemirror_mode": {
    "name": "ipython",
    "version": 3
   },
   "file_extension": ".py",
   "mimetype": "text/x-python",
   "name": "python",
   "nbconvert_exporter": "python",
   "pygments_lexer": "ipython3",
   "version": "3.8.12"
  }
 },
 "nbformat": 4,
 "nbformat_minor": 2
}
