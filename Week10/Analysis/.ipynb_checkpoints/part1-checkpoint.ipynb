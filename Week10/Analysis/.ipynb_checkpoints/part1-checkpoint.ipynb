{
 "cells": [
  {
   "cell_type": "code",
   "execution_count": 13,
   "metadata": {},
   "outputs": [
    {
     "name": "stdout",
     "output_type": "stream",
     "text": [
      "CPU times: user 18 µs, sys: 4 µs, total: 22 µs\n",
      "Wall time: 24.8 µs\n"
     ]
    }
   ],
   "source": [
    "%%time\n",
    "# Ignore this block -- it's for the documentation build\n",
    "try:\n",
    "    import os, sys\n",
    "    sys.path.insert(1, os.path.abspath('/home/runner/work/psi4/psi4/code/objdir/stage//usr/local/psi4/lib/'))\n",
    "except ImportError:\n",
    "    pass\n",
    "\n",
    "# This is the important part\n",
    "import psi4"
   ]
  },
  {
   "cell_type": "code",
   "execution_count": 14,
   "metadata": {},
   "outputs": [
    {
     "name": "stdout",
     "output_type": "stream",
     "text": [
      "CPU times: user 531 µs, sys: 117 µs, total: 648 µs\n",
      "Wall time: 672 µs\n"
     ]
    },
    {
     "data": {
      "text/plain": [
       "PosixPath('output.dat')"
      ]
     },
     "execution_count": 14,
     "metadata": {},
     "output_type": "execute_result"
    }
   ],
   "source": [
    "%%time\n",
    "psi4.set_output_file('output.dat', False)"
   ]
  },
  {
   "cell_type": "code",
   "execution_count": 15,
   "metadata": {},
   "outputs": [
    {
     "name": "stdout",
     "output_type": "stream",
     "text": [
      "CPU times: user 285 ms, sys: 6.79 ms, total: 292 ms\n",
      "Wall time: 294 ms\n"
     ]
    },
    {
     "data": {
      "text/plain": [
       "-76.02663273509017"
      ]
     },
     "execution_count": 15,
     "metadata": {},
     "output_type": "execute_result"
    }
   ],
   "source": [
    "%%time\n",
    "#! Sample HF/cc-pVDZ H2O Computation\n",
    "\n",
    "psi4.set_memory('500 MB')\n",
    "\n",
    "h2o = psi4.geometry(\"\"\"\n",
    "O\n",
    "H 1 0.96\n",
    "H 1 0.96 2 104.5\n",
    "\"\"\")\n",
    "\n",
    "psi4.energy('scf/cc-pvdz')"
   ]
  },
  {
   "cell_type": "code",
   "execution_count": 16,
   "metadata": {},
   "outputs": [
    {
     "name": "stdout",
     "output_type": "stream",
     "text": [
      "CPU times: user 275 ms, sys: 6.98 ms, total: 282 ms\n",
      "Wall time: 283 ms\n"
     ]
    },
    {
     "data": {
      "text/plain": [
       "-38.925334628937065"
      ]
     },
     "execution_count": 16,
     "metadata": {},
     "output_type": "execute_result"
    }
   ],
   "source": [
    "%%time\n",
    "#! Sample UHF/6-31G** CH2 Computation\n",
    "\n",
    "R = 1.075\n",
    "A = 133.93\n",
    "\n",
    "ch2 = psi4.geometry(\"\"\"\n",
    "0 3\n",
    "C\n",
    "H 1 {0}\n",
    "H 1 {0} 2 {1}\n",
    "\"\"\".format(R, A)\n",
    ")\n",
    "\n",
    "psi4.set_options({'reference': 'uhf'})\n",
    "psi4.energy('scf/6-31g**')"
   ]
  },
  {
   "cell_type": "code",
   "execution_count": 17,
   "metadata": {},
   "outputs": [
    {
     "name": "stdout",
     "output_type": "stream",
     "text": [
      "Optimizer: Optimization complete!\n",
      "CPU times: user 815 ms, sys: 24.1 ms, total: 839 ms\n",
      "Wall time: 846 ms\n"
     ]
    },
    {
     "data": {
      "text/plain": [
       "-76.0270327293733"
      ]
     },
     "execution_count": 17,
     "metadata": {},
     "output_type": "execute_result"
    }
   ],
   "source": [
    "%%time\n",
    "psi4.set_options({'reference': 'rhf'})\n",
    "psi4.optimize('scf/cc-pvdz', molecule=h2o)"
   ]
  },
  {
   "cell_type": "code",
   "execution_count": 18,
   "metadata": {},
   "outputs": [
    {
     "name": "stdout",
     "output_type": "stream",
     "text": [
      "CPU times: user 988 ms, sys: 11.3 ms, total: 1e+03 ms\n",
      "Wall time: 1.04 s\n"
     ]
    }
   ],
   "source": [
    "%%time\n",
    "scf_e, scf_wfn = psi4.frequency('scf/cc-pvdz', molecule=h2o, return_wfn=True)"
   ]
  },
  {
   "cell_type": "code",
   "execution_count": 19,
   "metadata": {},
   "outputs": [
    {
     "name": "stdout",
     "output_type": "stream",
     "text": [
      "CPU times: user 1.02 ms, sys: 4 µs, total: 1.02 ms\n",
      "Wall time: 1.01 ms\n"
     ]
    }
   ],
   "source": [
    "%%time\n",
    "# Example SAPT computation for ethene*ethyne (*i.e.*, ethylene*acetylene).\n",
    "# Test case 16 from S22 Database\n",
    "\n",
    "dimer = psi4.geometry(\"\"\"\n",
    "0 1\n",
    "C   0.000000  -0.667578  -2.124659\n",
    "C   0.000000   0.667578  -2.124659\n",
    "H   0.923621  -1.232253  -2.126185\n",
    "H  -0.923621  -1.232253  -2.126185\n",
    "H  -0.923621   1.232253  -2.126185\n",
    "H   0.923621   1.232253  -2.126185\n",
    "--\n",
    "0 1\n",
    "C   0.000000   0.000000   2.900503\n",
    "C   0.000000   0.000000   1.693240\n",
    "H   0.000000   0.000000   0.627352\n",
    "H   0.000000   0.000000   3.963929\n",
    "units angstrom\n",
    "\"\"\")"
   ]
  },
  {
   "cell_type": "code",
   "execution_count": 20,
   "metadata": {},
   "outputs": [
    {
     "name": "stdout",
     "output_type": "stream",
     "text": [
      "CPU times: user 3.76 s, sys: 232 ms, total: 3.99 s\n",
      "Wall time: 4.08 s\n"
     ]
    },
    {
     "data": {
      "text/plain": [
       "-0.0022355823909805178"
      ]
     },
     "execution_count": 20,
     "metadata": {},
     "output_type": "execute_result"
    }
   ],
   "source": [
    "%%time\n",
    "psi4.set_options({'scf_type': 'df',\n",
    "                  'freeze_core': True})\n",
    "\n",
    "psi4.energy('sapt0/jun-cc-pvdz', molecule=dimer)"
   ]
  },
  {
   "cell_type": "code",
   "execution_count": 21,
   "metadata": {},
   "outputs": [
    {
     "name": "stdout",
     "output_type": "stream",
     "text": [
      "CP-corrected CCSD(T)/aug-cc-pVDZ Interaction Energies\n",
      "\n",
      "\n",
      "          R [Ang]                 E_int [kcal/mol]       \n",
      "---------------------------------------------------------\n",
      "            2.5                        0.758605\n",
      "            3.0                        0.015968\n",
      "            4.0                        -0.016215\n",
      "CPU times: user 5.23 s, sys: 1.62 s, total: 6.85 s\n",
      "Wall time: 7.45 s\n"
     ]
    }
   ],
   "source": [
    "%%time\n",
    "#! Example potential energy surface scan and CP-correction for Ne2\n",
    "\n",
    "ne2_geometry = \"\"\"\n",
    "Ne\n",
    "--\n",
    "Ne 1 {0}\n",
    "\"\"\"\n",
    "\n",
    "Rvals = [2.5, 3.0, 4.0]\n",
    "\n",
    "psi4.set_options({'freeze_core': True})\n",
    "\n",
    "# Initialize a blank dictionary of counterpoise corrected energies\n",
    "# (Need this for the syntax below to work)\n",
    "\n",
    "ecp = {}\n",
    "\n",
    "for R in Rvals:\n",
    "    ne2 = psi4.geometry(ne2_geometry.format(R))\n",
    "    ecp[R] = psi4.energy('ccsd(t)/aug-cc-pvdz', bsse_type='cp', molecule=ne2)\n",
    "\n",
    "# Prints to screen\n",
    "print(\"CP-corrected CCSD(T)/aug-cc-pVDZ Interaction Energies\\n\\n\")\n",
    "print(\"          R [Ang]                 E_int [kcal/mol]       \")\n",
    "print(\"---------------------------------------------------------\")\n",
    "for R in Rvals:\n",
    "    e = ecp[R] * psi4.constants.hartree2kcalmol\n",
    "    print(\"            {:3.1f}                        {:1.6f}\".format(R, e))\n",
    "\n",
    "# Prints to output.dat\n",
    "psi4.core.print_out(\"CP-corrected CCSD(T)/aug-cc-pVDZ Interaction Energies\\n\\n\")\n",
    "psi4.core.print_out(\"          R [Ang]                 E_int [kcal/mol]       \\n\")\n",
    "psi4.core.print_out(\"---------------------------------------------------------\\n\")\n",
    "for R in Rvals:\n",
    "    e = ecp[R] * psi4.constants.hartree2kcalmol\n",
    "    psi4.core.print_out(\"            {:3.1f}                        {:1.6f}\\n\".format(R, e))"
   ]
  },
  {
   "cell_type": "code",
   "execution_count": null,
   "metadata": {},
   "outputs": [],
   "source": []
  }
 ],
 "metadata": {
  "kernelspec": {
   "display_name": "lab_env_2023",
   "language": "python",
   "name": "lab_env_2023"
  },
  "language_info": {
   "codemirror_mode": {
    "name": "ipython",
    "version": 3
   },
   "file_extension": ".py",
   "mimetype": "text/x-python",
   "name": "python",
   "nbconvert_exporter": "python",
   "pygments_lexer": "ipython3",
   "version": "3.9.12"
  }
 },
 "nbformat": 4,
 "nbformat_minor": 2
}
